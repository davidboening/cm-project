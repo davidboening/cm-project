{
 "cells": [
  {
   "cell_type": "code",
   "execution_count": 1,
   "id": "344903cb-2ae2-4f49-9047-52ac9dcb4fc7",
   "metadata": {},
   "outputs": [
    {
     "name": "stderr",
     "output_type": "stream",
     "text": [
      "/tmp/ipykernel_652/3996406306.py:4: DeprecationWarning: Please use `csc_matrix` from the `scipy.sparse` namespace, the `scipy.sparse.csc` namespace is deprecated.\n",
      "  from scipy.sparse.csc import csc_matrix\n"
     ]
    }
   ],
   "source": [
    "import pickle\n",
    "import cvxopt\n",
    "import numpy as np\n",
    "from scipy.sparse.csc import csc_matrix"
   ]
  },
  {
   "cell_type": "markdown",
   "id": "17c926d0-8dda-4814-a4d9-d44f4dfdd193",
   "metadata": {
    "tags": []
   },
   "source": [
    "### Get Quadratic Problem"
   ]
  },
  {
   "cell_type": "code",
   "execution_count": 2,
   "id": "72aa6cb7-14cb-4f13-ae9f-c0cc08b126c0",
   "metadata": {},
   "outputs": [],
   "source": [
    "EXAMPLE_NUM = 6"
   ]
  },
  {
   "cell_type": "code",
   "execution_count": 3,
   "id": "0c38421d-eaf0-4b56-a17a-f1e47c98ed07",
   "metadata": {},
   "outputs": [],
   "source": [
    "with open(f\"Data/problem{EXAMPLE_NUM}.pickle\", \"rb\") as f:\n",
    "    E_sparse, Q_diag, q, b, u, solution = pickle.load(f)\n",
    "Q = np.diag(Q_diag)\n",
    "E = E_sparse.toarray()\n",
    "E, E_sparse, b = E[:-1], E_sparse[:-1], b[:-1]              # linear independence\n",
    "u = np.nan_to_num(u, posinf=1e6)   # np.inf doesn't work with cvxopt"
   ]
  },
  {
   "cell_type": "code",
   "execution_count": 4,
   "id": "4d3e5caf-6aa3-42d7-8b41-a889bd27fd0f",
   "metadata": {},
   "outputs": [
    {
     "data": {
      "text/plain": [
       "(array([[-1., -1., -1., ...,  0.,  0.,  0.],\n",
       "        [ 0.,  0.,  0., ...,  0.,  0.,  0.],\n",
       "        [ 0.,  0.,  0., ...,  0.,  0.,  0.],\n",
       "        ...,\n",
       "        [ 0.,  0.,  0., ...,  0.,  0.,  0.],\n",
       "        [ 0.,  0.,  0., ...,  0.,  0.,  0.],\n",
       "        [ 0.,  0.,  0., ..., -1.,  0.,  0.]]),\n",
       " array([1., 1., 1., 1., 1., 1., 1., 1., 1., 1., 1., 1., 1., 1., 1., 1., 1.,\n",
       "        1., 1., 1., 1., 1., 1., 1., 1., 1., 1., 1., 1., 1., 1., 1., 1., 1.,\n",
       "        1., 1., 1., 1., 1., 1., 1., 1., 1., 1., 1., 1., 1., 1., 1., 1., 1.,\n",
       "        1., 1., 1., 1., 1., 1., 1., 1., 1., 1., 1., 1., 1., 1., 1., 1., 1.,\n",
       "        1., 1., 1., 1., 1., 1., 1., 1., 1., 1., 1., 1., 1., 1., 1., 1., 1.,\n",
       "        1., 1., 1., 1., 1., 1., 1., 1., 1., 1., 1., 1., 1., 1., 1., 1., 1.,\n",
       "        1., 1., 1., 1., 1., 1.]),\n",
       " array([1.e+05, 1.e+05, 1.e+05, 3.e+00, 1.e+05, 1.e+05, 1.e+05, 1.e+05,\n",
       "        1.e+05, 1.e+05, 1.e+05, 1.e+05, 1.e+05, 1.e+05, 1.e+05, 1.e+05,\n",
       "        1.e+05, 1.e+05, 1.e+05, 1.e+05, 1.e+05, 1.e+05, 1.e+05, 2.e+00,\n",
       "        1.e+05, 1.e+05, 1.e+05, 1.e+05, 1.e+05, 1.e+05, 1.e+05, 1.e+05,\n",
       "        1.e+05, 1.e+05, 1.e+05, 1.e+05, 1.e+05, 1.e+05, 2.e+00, 1.e+05,\n",
       "        1.e+05, 1.e+05, 1.e+05, 1.e+05, 1.e+05, 1.e+05, 1.e+05, 1.e+05,\n",
       "        1.e+05, 1.e+05, 1.e+05, 1.e+05, 2.e+00, 1.e+05, 1.e+05, 1.e+05,\n",
       "        1.e+05, 1.e+05, 2.e+00, 1.e+05, 1.e+05, 1.e+05, 1.e+05, 1.e+05,\n",
       "        1.e+05, 1.e+05, 1.e+05, 1.e+05, 1.e+05, 3.e+00, 1.e+05, 1.e+05,\n",
       "        1.e+05, 1.e+05, 1.e+05, 2.e+00, 1.e+05, 1.e+05, 1.e+05, 1.e+05,\n",
       "        2.e+00, 1.e+05, 3.e+00, 1.e+05, 1.e+05, 1.e+05, 1.e+05, 2.e+00,\n",
       "        1.e+05, 1.e+05, 1.e+05, 1.e+05, 3.e+00, 1.e+05, 1.e+05, 1.e+05,\n",
       "        1.e+05, 1.e+05, 1.e+05, 1.e+05, 1.e+05, 1.e+05, 1.e+05, 1.e+05,\n",
       "        1.e+05, 3.e+00, 1.e+05, 1.e+05]),\n",
       " array([-5.,  0., -5.,  5.,  0.,  0.,  0.,  0.,  0.,  0.,  5.,  0.,  0.,\n",
       "         0.,  0.,  0.,  0.,  0.,  0.]),\n",
       " array([4., 4., 4., 5., 4., 4., 4., 4., 4., 4., 4., 4., 4., 4., 4., 4., 4.,\n",
       "        4., 4., 4., 4., 4., 4., 6., 4., 4., 4., 4., 4., 4., 4., 4., 4., 4.,\n",
       "        4., 4., 4., 4., 6., 4., 4., 4., 4., 4., 4., 4., 4., 4., 4., 4., 4.,\n",
       "        4., 6., 4., 4., 4., 4., 4., 6., 4., 4., 4., 4., 4., 4., 4., 4., 4.,\n",
       "        4., 5., 4., 4., 4., 4., 4., 6., 4., 4., 4., 4., 6., 4., 5., 4., 4.,\n",
       "        4., 4., 6., 4., 4., 4., 4., 5., 4., 4., 4., 4., 4., 4., 4., 4., 4.,\n",
       "        4., 4., 4., 5., 4., 4.]),\n",
       " array([0., 0., 0., 5., 0., 0., 0., 0., 0., 0., 0., 0., 0., 0., 0., 0., 0.,\n",
       "        0., 0., 0., 0., 0., 0., 5., 0., 0., 0., 0., 0., 0., 0., 0., 0., 0.,\n",
       "        0., 0., 0., 0., 5., 0., 0., 0., 0., 0., 0., 0., 0., 0., 0., 0., 0.,\n",
       "        0., 5., 0., 0., 0., 0., 0., 5., 0., 0., 0., 0., 0., 0., 0., 0., 0.,\n",
       "        0., 5., 0., 0., 0., 0., 0., 5., 0., 0., 0., 0., 5., 0., 5., 0., 0.,\n",
       "        0., 0., 5., 0., 0., 0., 0., 5., 0., 0., 0., 0., 0., 0., 0., 0., 0.,\n",
       "        0., 0., 0., 5., 0., 0.]))"
      ]
     },
     "execution_count": 4,
     "metadata": {},
     "output_type": "execute_result"
    }
   ],
   "source": [
    "E, Q_diag, q, b, u, solution"
   ]
  },
  {
   "cell_type": "code",
   "execution_count": 5,
   "id": "a5a3d8cd-fab1-4519-a48e-8306ef3359a9",
   "metadata": {},
   "outputs": [
    {
     "name": "stdout",
     "output_type": "stream",
     "text": [
      "#nodes:20, #edges:108\n"
     ]
    }
   ],
   "source": [
    "n, m = E.shape\n",
    "print(f\"#nodes:{n+1}, #edges:{m}\")"
   ]
  },
  {
   "cell_type": "markdown",
   "id": "67f7f34d-ca23-4a5f-99b6-bc4de495e954",
   "metadata": {},
   "source": [
    "### Init and solve with cvxopt"
   ]
  },
  {
   "cell_type": "code",
   "execution_count": 6,
   "id": "6587fe74-9a1c-41d0-8583-c515c4524f27",
   "metadata": {},
   "outputs": [
    {
     "name": "stdout",
     "output_type": "stream",
     "text": [
      "     pcost       dcost       gap    pres   dres\n",
      " 0: -1.5147e+11 -5.0499e+10  3e+11  1e+04  7e-17\n",
      " 1: -1.0932e+10 -3.5468e+08  6e+10  2e+03  4e-13\n",
      " 2: -1.3527e+08 -1.1941e+07  7e+08  2e+01  5e-15\n",
      " 3: -1.8355e+06 -1.0783e+07  3e+07  6e-01  3e-16\n",
      " 4:  3.4071e+05 -5.1951e+06  1e+07  2e-01  2e-16\n",
      " 5:  4.1045e+05 -1.7620e+06  4e+06  6e-02  2e-16\n",
      " 6:  8.7267e+04 -4.0324e+05  8e+05  1e-02  2e-16\n",
      " 7:  3.5688e+04 -9.4175e+04  2e+05  2e-03  3e-16\n",
      " 8:  8.7926e+02 -6.7148e+02  2e+03  3e-05  2e-16\n",
      " 9:  4.4934e+02  4.3383e+02  2e+01  3e-07  2e-16\n",
      "10:  4.4504e+02  4.4489e+02  2e-01  3e-09  2e-16\n",
      "11:  4.4500e+02  4.4500e+02  2e-03  3e-11  2e-16\n",
      "12:  4.4500e+02  4.4500e+02  2e-05  3e-13  2e-16\n",
      "Optimal solution found.\n"
     ]
    }
   ],
   "source": [
    "P_cvxopt = cvxopt.matrix(2*Q)\n",
    "p_cvxopt = cvxopt.matrix(q)\n",
    "# x >= 0  <>  G = -I,  h = 0\n",
    "# x <= u  <>  G =  I,  h = u\n",
    "G_cvxopt = cvxopt.matrix(np.block([\n",
    "    [-np.eye(m)], \n",
    "    [np.eye(m)]\n",
    "]))\n",
    "h_cvxopt = cvxopt.matrix(np.concatenate((np.zeros(m), u)))\n",
    "# Ex = b\n",
    "A_cvxopt = cvxopt.matrix(E)\n",
    "b_cvxopt = cvxopt.matrix(b)\n",
    "\n",
    "sol = cvxopt.solvers.qp(P_cvxopt, p_cvxopt, # cost\n",
    "                        G_cvxopt, h_cvxopt, # ineq. constraints\n",
    "                        A_cvxopt, b_cvxopt) # eq. constraints"
   ]
  },
  {
   "cell_type": "code",
   "execution_count": 7,
   "id": "7d81b2dc-b792-43ec-9a3e-9dea411631db",
   "metadata": {},
   "outputs": [
    {
     "data": {
      "text/plain": [
       "295.0"
      ]
     },
     "execution_count": 7,
     "metadata": {},
     "output_type": "execute_result"
    }
   ],
   "source": [
    "1/2* solution @ Q @ solution + solution @ q"
   ]
  },
  {
   "cell_type": "code",
   "execution_count": 8,
   "id": "d69b96a0-7351-469d-8951-88e6ad6cfab5",
   "metadata": {},
   "outputs": [
    {
     "data": {
      "text/plain": [
       "295.0000043439088"
      ]
     },
     "execution_count": 8,
     "metadata": {},
     "output_type": "execute_result"
    }
   ],
   "source": [
    "assert(sol[\"status\"] == 'optimal')\n",
    "sol_cvxopt = np.array(sol[\"x\"]).reshape(m)\n",
    "1/2* sol_cvxopt @ Q @ sol_cvxopt + sol_cvxopt @ q"
   ]
  },
  {
   "cell_type": "code",
   "execution_count": 9,
   "id": "0e58835f-f64b-4637-bc72-373305d5d561",
   "metadata": {},
   "outputs": [
    {
     "data": {
      "text/plain": [
       "6.838085653271264e-12"
      ]
     },
     "execution_count": 9,
     "metadata": {},
     "output_type": "execute_result"
    }
   ],
   "source": [
    "np.max(sol_cvxopt - solution)"
   ]
  },
  {
   "cell_type": "code",
   "execution_count": 10,
   "id": "cc571ddd-ec27-4006-86ed-8c87a4f4a67a",
   "metadata": {},
   "outputs": [
    {
     "data": {
      "text/plain": [
       "array([ 7.04416129e-13,  1.89767903e-12,  6.28306960e-13,  5.00000000e+00,\n",
       "        6.78531344e-13,  7.50319183e-13,  5.55716595e-13,  9.36598939e-13,\n",
       "        5.91591857e-13,  3.21342959e-13,  4.14809573e-13,  4.54016828e-13,\n",
       "        8.61929097e-13,  3.45078210e-13, -3.94647638e-14,  1.92126868e-13,\n",
       "        6.28126458e-13,  2.14968239e-13,  1.14901251e-13, -3.98969739e-13,\n",
       "        8.31375507e-14,  1.19807787e-14,  3.11195716e-13,  5.00000000e+00,\n",
       "        1.15026076e-13,  6.68839250e-14, -1.59208084e-14,  3.63658342e-13,\n",
       "        2.09346948e-13,  2.91538821e-13,  6.65372366e-14,  2.50426144e-13,\n",
       "        5.66198364e-13,  1.42458078e-13,  1.56123664e-13,  9.11949777e-14,\n",
       "        1.63761709e-13,  8.17113704e-14,  5.00000000e+00,  1.24969961e-12,\n",
       "        3.95746197e-13,  1.30028244e-13,  7.62445445e-14,  2.26205567e-13,\n",
       "        6.04432682e-13,  9.53502155e-14,  3.03757673e-14,  1.59664284e-12,\n",
       "        3.41094594e-13,  4.47378796e-13,  5.42207639e-14,  2.37546334e-13,\n",
       "        5.00000000e+00,  1.23907364e-13,  3.07105941e-14, -7.82928983e-15,\n",
       "        8.95510423e-13,  4.05320259e-13,  5.00000000e+00,  5.38584692e-13,\n",
       "        1.31201760e-13,  4.43562529e-13, -2.82204665e-14, -1.43743930e-13,\n",
       "        5.00728307e-13,  1.35356542e-12,  6.15659265e-14,  2.89063546e-13,\n",
       "        1.90777382e-13,  5.00000000e+00,  7.61256952e-13,  1.35895444e-12,\n",
       "        1.03592488e-13,  1.52223187e-13,  1.44705001e-12,  5.00000000e+00,\n",
       "       -2.86553993e-14,  1.19444835e-12,  9.66242347e-13,  1.41980608e-12,\n",
       "        5.00000000e+00,  7.61726838e-13,  5.00000000e+00,  1.61603497e-12,\n",
       "        1.39270693e-12,  1.24692302e-12,  2.40736087e-13,  5.00000000e+00,\n",
       "        3.99246023e-14, -1.38760495e-13,  6.84257674e-14, -4.37374069e-14,\n",
       "        5.00000000e+00,  5.27476846e-13,  4.97115251e-13,  5.10009341e-13,\n",
       "        7.15520841e-14,  3.79027253e-13,  1.18269789e-13,  2.11174938e-14,\n",
       "        9.39982335e-14,  1.02886458e-12,  6.39892711e-13,  1.76568899e-12,\n",
       "        1.02211593e-12,  5.00000000e+00,  3.74475379e-13,  7.54704587e-13])"
      ]
     },
     "execution_count": 10,
     "metadata": {},
     "output_type": "execute_result"
    }
   ],
   "source": [
    "sol_cvxopt"
   ]
  },
  {
   "cell_type": "code",
   "execution_count": 11,
   "id": "a2081b64-2c78-498d-a492-e95d81d595c0",
   "metadata": {},
   "outputs": [
    {
     "data": {
      "text/plain": [
       "array([  3,  23,  38,  52,  58,  69,  75,  80,  82,  87,  92, 105])"
      ]
     },
     "execution_count": 11,
     "metadata": {},
     "output_type": "execute_result"
    }
   ],
   "source": [
    "np.argwhere(sol_cvxopt > 1e-6).flatten()"
   ]
  },
  {
   "cell_type": "code",
   "execution_count": null,
   "id": "fea6c4ac-b49f-4b4f-86c7-f079cd1ab79d",
   "metadata": {},
   "outputs": [],
   "source": []
  }
 ],
 "metadata": {
  "kernelspec": {
   "display_name": "Python 3 (ipykernel)",
   "language": "python",
   "name": "python3"
  },
  "language_info": {
   "codemirror_mode": {
    "name": "ipython",
    "version": 3
   },
   "file_extension": ".py",
   "mimetype": "text/x-python",
   "name": "python",
   "nbconvert_exporter": "python",
   "pygments_lexer": "ipython3",
   "version": "3.10.2"
  }
 },
 "nbformat": 4,
 "nbformat_minor": 5
}
