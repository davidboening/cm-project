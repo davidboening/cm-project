{
 "cells": [
  {
   "cell_type": "code",
   "execution_count": 1,
   "id": "4a41a443-3ecc-46f5-b5c8-b9397dd07b1e",
   "metadata": {},
   "outputs": [],
   "source": [
    "import pickle\n",
    "import numpy as np\n",
    "from scipy.optimize import linprog\n",
    "from numpy.linalg import solve      # from scipy.linalg import solve"
   ]
  },
  {
   "cell_type": "code",
   "execution_count": 2,
   "id": "4b82e282-f3a6-443f-8aa6-51e22566c6b1",
   "metadata": {},
   "outputs": [],
   "source": [
    "# load exercize into memory\n",
    "EXAMPLE_NUM = 2\n",
    "\n",
    "with open(f\"Data/problem{EXAMPLE_NUM}.pickle\", \"rb\") as f:\n",
    "    E_sparse, Q_diag, q, b, u, solution = pickle.load(f)\n",
    "Q = np.diag(Q_diag)\n",
    "E = E_sparse.toarray()\n",
    "u = np.nan_to_num(u, posinf=1e6)"
   ]
  },
  {
   "cell_type": "code",
   "execution_count": 3,
   "id": "dd5edab4-6f27-4e72-a999-618c1785c7da",
   "metadata": {},
   "outputs": [
    {
     "data": {
      "text/plain": [
       "(7, 8)"
      ]
     },
     "execution_count": 3,
     "metadata": {},
     "output_type": "execute_result"
    }
   ],
   "source": [
    "n, m = E.shape\n",
    "n, m"
   ]
  },
  {
   "cell_type": "code",
   "execution_count": 4,
   "id": "62d11aab-92d2-4451-a1df-536b119a64ba",
   "metadata": {},
   "outputs": [],
   "source": [
    "# set absolute tollerance for most checks\n",
    "ATOL = 1e-6"
   ]
  },
  {
   "cell_type": "markdown",
   "id": "52e726ef-df67-43c2-adf3-bd4bb52b696a",
   "metadata": {},
   "source": [
    "### Problem Formulation\n",
    "$\\min_x \\ f(x) = \\frac{1}{2}x^T Q x + q^T x$\n",
    "\n",
    "constrained by: $\\quad E x = b, \\quad -x \\leq 0, \\quad x \\leq u$"
   ]
  },
  {
   "cell_type": "markdown",
   "id": "44aa5354-1f93-424e-93e4-e1d7b9103e8f",
   "metadata": {},
   "source": [
    "### Additionally we know:\n",
    "- equality constraint functions: $\\quad h(x) = e^T x - b$\n",
    "- inquality constraint functions: $\\quad g_L(x) = -x, \\quad g_U(x) = x - u$\n",
    "- cost function gradient: $\\quad \\nabla{f(x)} = Q x + q$\n",
    "- constraint function gradients: $\\quad \\nabla{h(x)}=E, \\quad \\nabla{g_L(x)}= -I_m, \\quad \\nabla{g_U(x)}= I_m$\n",
    "- x is a solution if KKT holds:\n",
    "    - stationarity: $\\quad \\nabla{f(x)} + \\lambda^T \\nabla{h(x)} + \\mu^T \\nabla{g(x)} = 0$\n",
    "    - primal/dual feasibility + complementary slackness: $\\quad g(x) \\leq 0, \\quad h(x) = 0, \\quad \\mu \\geq 0, \\quad \\mu^T g(x) = 0$"
   ]
  },
  {
   "cell_type": "markdown",
   "id": "27f9be39-79eb-4e84-b998-47e99b9467f1",
   "metadata": {},
   "source": [
    "### Active Set formulation\n",
    "- set of lower bounded indices: $\\quad A_L = \\{ i \\mid x_i = 0 \\}$\n",
    "- set of upper bounded indices: $\\quad A_U = \\{ i \\mid x_i = u_i \\}$\n",
    "- set of free indices: $\\quad F = I \\setminus (A_L \\cup A_U), \\quad I = \\{ 1,2,...,n \\}$"
   ]
  },
  {
   "cell_type": "markdown",
   "id": "66b67a2b-aed2-42c6-8eab-8ab5435bd33c",
   "metadata": {},
   "source": [
    "### Utility Functions"
   ]
  },
  {
   "cell_type": "code",
   "execution_count": 5,
   "id": "30a3af99-bafc-439e-bcf5-603cfdb499f7",
   "metadata": {},
   "outputs": [],
   "source": [
    "def assert_contraints(x, tol=1e-6):\n",
    "    assert np.allclose(E.dot(x), b, atol=tol), \"equality is broken\"\n",
    "    assert np.allclose(-tol < x, True),        \"lower bound is broken\"\n",
    "    assert np.allclose(x < u + tol, True),     \"upper bound is broken\"\n",
    "    return True"
   ]
  },
  {
   "cell_type": "code",
   "execution_count": 6,
   "id": "debabd4d-3751-45c4-aaf6-d4c4e17f79cb",
   "metadata": {},
   "outputs": [],
   "source": [
    "def get_cost(x):\n",
    "    return 0.5*x.dot(Q).dot(x) + x.dot(q)"
   ]
  },
  {
   "cell_type": "code",
   "execution_count": 7,
   "id": "0525146a-9fa1-4d1d-896b-915951a3a686",
   "metadata": {},
   "outputs": [],
   "source": [
    "def get_active_box_constraints(x, lower=0,  upper=1e6, tol=1e-6):\n",
    "    lower_bounded = np.argwhere(np.abs(x-lower) < tol).flatten()\n",
    "    upper_bounded = np.argwhere(np.abs(x-upper) < tol).flatten()\n",
    "    return lower_bounded, upper_bounded"
   ]
  },
  {
   "cell_type": "code",
   "execution_count": 8,
   "id": "d4183aa0-b8a8-43a1-ba08-b77c45bbc0af",
   "metadata": {},
   "outputs": [],
   "source": [
    "def print_solution_and_cost(x, fx, i=None):\n",
    "    print(f\"x^({i}) = {x}\")\n",
    "    print(f\"f(x^({i})) = {fx}\")"
   ]
  },
  {
   "cell_type": "code",
   "execution_count": 9,
   "id": "827a734e-2330-4dff-aaa7-9cdf7077e5ae",
   "metadata": {},
   "outputs": [],
   "source": [
    "def print_sets(AL=None, AU=None, A=None, F=None, i=None):\n",
    "    if AL is not None:\n",
    "        print(f\"A_L^({i}) = {AL}\")\n",
    "    if AU is not None:\n",
    "        print(f\"A_U^({i}) = {AU}\")\n",
    "    if A is not None:\n",
    "        print(f\"A^({i}) = {A}\")\n",
    "    if F is not None:\n",
    "        print(f\"F^({i}) = {F}\")"
   ]
  },
  {
   "cell_type": "code",
   "execution_count": 10,
   "id": "0a13a113-94a4-4797-92b7-8fc7c54b426f",
   "metadata": {},
   "outputs": [],
   "source": [
    "def get_matrix_encoding(E):\n",
    "    \"\"\"Matrix encoding used when computing the Connected Components\n",
    "    @returns nn_map, e_map\n",
    "    nn_map : dict (key=nodeID, value=adjacent_nodeIDs)\n",
    "    e_map  : dict (key=edgeID, value=(in_nodeID, out_nodeID))\n",
    "    \"\"\"\n",
    "    # node-node connections = {ROWS | for each node: outgoing and incoming nodes}\n",
    "    nn_map = {}\n",
    "    for i, row in enumerate(E):\n",
    "        outgoing = np.argwhere(row < -0.9).flatten(), \n",
    "        incoming = np.argwhere(row >  0.9).flatten(),\n",
    "        nn_map[i] = np.union1d(outgoing, incoming)\n",
    "    # edges = {COLS | for each edge: in node, out node}\n",
    "    e_map = {}\n",
    "    for i, col in enumerate(E.T):\n",
    "        e_map[i] = (np.argwhere(col < -0.9).flatten()[0], np.argwhere(col > 0.9).flatten()[0])\n",
    "    return nn_map, e_map"
   ]
  },
  {
   "cell_type": "code",
   "execution_count": 11,
   "id": "a8ab88f8-e1db-4c96-922f-c65ebda18766",
   "metadata": {},
   "outputs": [],
   "source": [
    "def get_subgraph_connected_components(active_edges):\n",
    "    \"\"\"Compute connected components of the subgraph given by keeping all the\n",
    "    original nodes and edges only the ones in 'active_edges'.\n",
    "    @returns ccs : list of connected components\n",
    "    \n",
    "    Some values are implictly passed: [n, m, nn_map, e_map]\n",
    "    n : # nodes, m : # edges, \n",
    "    nn_map, e_map are the ones defined in get_matrix_encoding.\n",
    "    \"\"\"\n",
    "    # \n",
    "\n",
    "    # initial values\n",
    "    visited = np.full(n, False)\n",
    "    ccs = []\n",
    "    \n",
    "    # depth first search (subgraph given by active_edges)\n",
    "    def dfs(nid, cc):\n",
    "        for eid in nn_map[nid]:\n",
    "            if eid in active_edges:\n",
    "                in_nid, out_nid = e_map[eid]\n",
    "                c_nid = out_nid if out_nid != nid else in_nid\n",
    "                if not visited[c_nid]:\n",
    "                    visited[c_nid] = True\n",
    "                    cc.append(c_nid)\n",
    "                    dfs(out_nid, cc)\n",
    "    # start dfs for each node\n",
    "    for nid in range(n):\n",
    "        if not visited[nid]:\n",
    "            visited[nid] = True\n",
    "            new_cc = [nid]\n",
    "            dfs(nid, new_cc)\n",
    "            ccs.append(new_cc)\n",
    "    return ccs"
   ]
  },
  {
   "cell_type": "code",
   "execution_count": 12,
   "id": "ac966a2c-3327-4df4-aa2d-cfc8a592cbd9",
   "metadata": {},
   "outputs": [],
   "source": [
    "def quadsolve(Q_diag, q, A_eq, b_eq=0, tol=1e-6):\n",
    "    \"\"\"Computes the solution of an equality constrained quadratic program given as:\n",
    "        min_x(1/2*xQx + qx) constrained by A_eq x = b_eq.\n",
    "    \n",
    "    @param Q_diag : the diagonal of Q, positive definite\n",
    "    @param q : (m,) array\n",
    "    @param A_eq : (n x m) matrix with n linearly indipendent rows \n",
    "    @param b_eq : (n,) array [default is 0]\n",
    "    \n",
    "    @returns x, lambdas\n",
    "    x : solution of the quadratic program\n",
    "    lambdas : lagrangian multipliers\n",
    "    \"\"\"\n",
    "    Q_diag_inv = 1 / Q_diag\n",
    "    AQ_inv = np.multiply(A_eq, Q_diag_inv)\n",
    "    _b = -b_eq - AQ_inv.dot(q)\n",
    "    _A = AQ_inv.dot(A_eq.T)\n",
    "    \n",
    "    lambdas = solve(_A, _b)\n",
    "    x = -np.multiply(Q_diag_inv, q + A_eq.T.dot(lambdas))\n",
    "    \n",
    "    return x, lambdas"
   ]
  },
  {
   "cell_type": "code",
   "execution_count": 13,
   "id": "f30ec2b5-e3fc-4210-b85c-48f519b84811",
   "metadata": {},
   "outputs": [],
   "source": [
    "def assert_step(p, an, ae, tol=1e-6):\n",
    "    \"\"\"Assert the step is valid.\n",
    "    @param p : step\n",
    "    @param an: linearly independent contraint indices\n",
    "    @param ae: free variable set\n",
    "    \"\"\"\n",
    "    assert np.allclose(E[np.ix_(an, ae)].dot(p), 0, atol=tol), \"equality is broken\""
   ]
  },
  {
   "cell_type": "code",
   "execution_count": 14,
   "id": "5d097b45-a6a3-4e56-8049-c69f34549717",
   "metadata": {},
   "outputs": [],
   "source": [
    "def get_mus(x, AL, AU):\n",
    "    # mu = -g(x) (grad_fx)\n",
    "    grad_fx = Q.dot(x) + q\n",
    "    return grad_fx[AL], -grad_fx[AU]"
   ]
  },
  {
   "cell_type": "code",
   "execution_count": 15,
   "id": "09362adf-ad1d-4123-9497-5255e25141b2",
   "metadata": {},
   "outputs": [],
   "source": [
    "def get_linearly_independent_constraints(ccs):\n",
    "    \"\"\"Returns a set of linearly independent constraints.\n",
    "    @param ccs : Connected Components of the subgraph\n",
    "    @returns lic : linearly independent contraint indices\n",
    "    \"\"\"\n",
    "    lic = []\n",
    "    for cc in ccs:\n",
    "        lic.extend(cc[:-1])\n",
    "    return np.array(lic)"
   ]
  },
  {
   "cell_type": "code",
   "execution_count": 16,
   "id": "c6e0ce83-8194-414a-a971-4e0b2779b510",
   "metadata": {},
   "outputs": [],
   "source": [
    "def get_lagrangian_multipliers(x, an, ae, lb, ub):\n",
    "    \"\"\"Given a square singular matrix of all active contraints\n",
    "    returns associated lagrangian multipliers.\n",
    "    @param x : solution\n",
    "    @param an: linearly independent contraint indices\n",
    "    @param ae: free variable set\n",
    "    @param lb: lower bounded indices\n",
    "    @param ub: upper bounded indices\n",
    "    @returns lambdas, muL, muU\n",
    "    lambdas : lagrangian multipliers for equalities\n",
    "    muL : lagrangian multipliers for lower bounded indices\n",
    "    muU : lagrangian multipliers for upper bounded indices\n",
    "    \"\"\"\n",
    "    # get sizes to split solution\n",
    "    sizes = [0, an.size, lb.size, ub.size]\n",
    "    splits = np.array(sizes).cumsum()\n",
    "    \n",
    "    assert ae.size == an.size, \"matrix is not square\"\n",
    "    \n",
    "    # solve lagrangian multipliers\n",
    "    sol = solve(np.block([E[an].T, -I[lb].T, I[ub].T]), -Q.dot(x)-q)\n",
    "    lambdas = sol[splits[0]: splits[1]]\n",
    "    muL     = sol[splits[1]: splits[2]]\n",
    "    muU     = sol[splits[2]: splits[3]]\n",
    "    \n",
    "    return lambdas, muL, muU"
   ]
  },
  {
   "cell_type": "code",
   "execution_count": 17,
   "id": "51eaa07b-435d-4210-a69b-30a963f134ee",
   "metadata": {},
   "outputs": [],
   "source": [
    "def get_lagrangian_multipliers_full(x, an, ae, lb, ub):\n",
    "    \"\"\"Given a linearly independent matrix of all active contraints\n",
    "    returns associated lagrangian multipliers.\n",
    "    @param x : solution\n",
    "    @param an: linearly independent contraint indices\n",
    "    @param ae: free variable set\n",
    "    @param lb: lower bounded indices\n",
    "    @param ub: upper bounded indices\n",
    "    @returns lambdas, muL, muU\n",
    "    lambdas : lagrangian multipliers for equalities\n",
    "    muL : lagrangian multipliers for lower bounded indices\n",
    "    muU : lagrangian multipliers for upper bounded indices\n",
    "    \"\"\"\n",
    "    I = np.eye(m,m)\n",
    "    O = np.zeros((m,m))\n",
    "    _A = np.block([\n",
    "        [Q  , E.T      , -I       , I        ],\n",
    "        [E  , O[:n,:n] , O[:n,:m] , O[:n,:m] ],\n",
    "        [-I , O[:m,:n] , O[:m,:m] , O[:m,:m] ],\n",
    "        [I  , O[:m,:n] , O[:m,:m] , O[:m,:m] ]\n",
    "    ])\n",
    "    _b = np.concatenate([-q, b, np.zeros(m), u])\n",
    "    del O\n",
    "\n",
    "    sizes = [0, m, an.size, AL_k.size, AU_k.size]\n",
    "    splits = np.array(sizes).cumsum()\n",
    "    idx = np.concatenate([np.arange(m), m + an, (m+n) + AL_k, (2*m + n) + AU_k])\n",
    "    sol = solve(_A[np.ix_(idx, idx)], _b[idx])\n",
    "    x       = sol[splits[0]: splits[1]]\n",
    "    lambdas = sol[splits[1]: splits[2]]\n",
    "    muL     = sol[splits[2]: splits[3]]\n",
    "    muU     = sol[splits[3]: splits[4]]\n",
    "    del sizes, splits\n",
    "    assert np.allclose(x, x_k, atol=ATOL), \"x != x_k\"\n",
    "    return lambdas, muL, muU"
   ]
  },
  {
   "cell_type": "raw",
   "id": "1f29b4d9-0b5e-4040-af55-2e6ca312adf8",
   "metadata": {},
   "source": [
    "# IGNORE THIS\n",
    "def quadsolve2(Q_diag, q, A_eq, tol=1e-6):\n",
    "    \"\"\"Computes the solution of an equality constrained quadratic program given as:\n",
    "        min_x(1/2*xQx + qx) constrained by A_eq x = 0.\n",
    "    \n",
    "    @param Q_diag : the diagonal of Q, positive definite\n",
    "    @param A_eq : singular square matrix of contraints\n",
    "    \n",
    "    @returns x, lambdas\n",
    "    x : solution of the quadratic program\n",
    "    lambdas : lagrangian multipliers\n",
    "    \"\"\"\n",
    "    # fix index l such that x[l]=1, add row to A_eq, solve A_eq x = 0 directly"
   ]
  },
  {
   "cell_type": "markdown",
   "id": "5ead0d7d-3567-4104-b482-50c0ed4518b0",
   "metadata": {},
   "source": [
    "### 1. Compute feasible starting point $x^{(0)}$ and active sets $A_L = \\{ i \\mid x_i = 0 \\}$, $A_U = \\{ i \\mid x_i = u_i \\}$"
   ]
  },
  {
   "cell_type": "code",
   "execution_count": 18,
   "id": "638f9e55-f55b-4857-850d-825b1ffd969f",
   "metadata": {},
   "outputs": [
    {
     "name": "stdout",
     "output_type": "stream",
     "text": [
      "x^(0) = [3.         3.         3.         3.         2.99999693 3.00000307\n",
      " 2.99999693 3.00000307]\n",
      "f(x^(0)) = 55.80002273617955\n",
      "A_L^(0) = []\n",
      "A_U^(0) = []\n",
      "A^(0) = []\n",
      "F^(0) = [0 1 2 3 4 5 6 7]\n"
     ]
    }
   ],
   "source": [
    "## implement symplex method instead of using\n",
    "res = linprog(np.ones(m), A_eq=E[:-1], b_eq=b[:-1], bounds=[(0, x) for x in u], ) #method=\"simplex\")\n",
    "\n",
    "# get inital x and check constraints (primal feasability)\n",
    "assert res[\"success\"], \"[ERROR] simplex method failed\"\n",
    "x_k = res[\"x\"]\n",
    "assert_contraints(x_k, tol=ATOL)\n",
    "\n",
    "# print current solution and cost\n",
    "fx_k = get_cost(x_k)\n",
    "print_solution_and_cost(x_k, fx_k, i=0)\n",
    "\n",
    "# get current active sets \n",
    "AL_k, AU_k = get_active_box_constraints(x_k, 0, u, tol=ATOL)\n",
    "A_k = np.union1d(AL_k, AU_k)\n",
    "F_k = np.setdiff1d(np.arange(m), A_k)\n",
    "\n",
    "# print active sets\n",
    "print_sets(AL_k, AU_k, A_k, F_k, i=0)"
   ]
  },
  {
   "cell_type": "code",
   "execution_count": 19,
   "id": "325bb946-72bc-4430-bd4b-f557b02a7a3f",
   "metadata": {},
   "outputs": [],
   "source": [
    "# get matrix encoding\n",
    "nn_map, e_map = get_matrix_encoding(E)"
   ]
  },
  {
   "cell_type": "code",
   "execution_count": 20,
   "id": "06260c3c-a298-40b4-bf9f-6dcec6cf8958",
   "metadata": {},
   "outputs": [],
   "source": [
    "# compute a single indentity matrix for indexing\n",
    "I = np.eye(m)"
   ]
  },
  {
   "cell_type": "markdown",
   "id": "6115f6e0-2444-4784-aed2-7aeeb9aa80bb",
   "metadata": {},
   "source": [
    "## 2. Active Set Method\n",
    "### 2.1. Compute maximal step $p^{(k)}$\n",
    "### 2.2a if ($p^{(k)} \\approx 0$) then Compute lagrangian multipliers $\\mu^{(k)}$\n",
    "#### 2.2a.1a if ($\\mu^{(k)} \\approx 0$) then STOP\n",
    "#### 2.2a.1b else remove indices with most negative $\\mu^{(k)}$ from $A_L^{(k)}, A_U^{(k)}$\n",
    "### 2.2b else Compute maximum step size $\\alpha^{(k)}$ such that $x^{(k+1)}$ is feasible and update $A_L^{(k)}, A_U^{(k)}$"
   ]
  },
  {
   "cell_type": "code",
   "execution_count": 21,
   "id": "ba784eec-1a9e-4fa6-8fc7-886e4b34a828",
   "metadata": {},
   "outputs": [],
   "source": [
    "def primal_algorithm(i):\n",
    "    global x_k, AL_k, AU_k, A_k, F_k\n",
    "    \n",
    "    # get linerarly independent contraints\n",
    "    ccs = get_subgraph_connected_components(F_k)\n",
    "    lic = get_linearly_independent_constraints(ccs)\n",
    "    \n",
    "    # 2.1 : compute step p^k\n",
    "    p_k, _ = quadsolve(\n",
    "        Q_diag[F_k],                       # Q_FF\n",
    "        Q_diag[F_k] * x_k[F_k] + q[F_k],   # g^k_F\n",
    "        E[np.ix_(lic, F_k)],               # E_GF\n",
    "        tol=ATOL\n",
    "    )\n",
    "    assert_step(p_k, lic, F_k)\n",
    "    print(f\"p^({i}) = {p_k}\")\n",
    "    \n",
    "    # 2.2a : check if p^k == 0\n",
    "    if np.allclose(p_k, 0, atol=ATOL):\n",
    "        assert lic.size == F_k.size, \"Issues\"\n",
    "        \n",
    "        _, muL, muU = get_lagrangian_multipliers(x_k, lic, F_k, AL_k, AU_k)\n",
    "        \n",
    "        # 2.2a.1a : check if mu^k > 0\n",
    "        min_muL = np.min(muL, initial=np.inf)\n",
    "        min_muU = np.min(muU, initial=np.inf)\n",
    "        if min_muL > -ATOL and min_muU > -ATOL:\n",
    "            return True\n",
    "        \n",
    "        print(f\"mu_L^({i}) = {muL}\")\n",
    "        print(f\"mu_U^({i}) = {muU}\")\n",
    "        \n",
    "        min_mu = np.min([min_muL, min_muU])\n",
    "        \n",
    "        jsL = np.argwhere(np.abs(muL - min_mu) < ATOL).flatten()\n",
    "        jsU = np.argwhere(np.abs(muU - min_mu) < ATOL).flatten()\n",
    "        \n",
    "        # 2.2a.1a : remove most negative indices\n",
    "        AL_k = np.setdiff1d(AL_k, AL_k[jsL])\n",
    "        AU_k = np.setdiff1d(AU_k, AU_k[jsU])\n",
    "        A_k  = np.union1d(AL_k, AU_k)\n",
    "        F_k  = np.setdiff1d(np.arange(m), A_k)\n",
    "\n",
    "    # 2.2b : compute solution update\n",
    "    else:\n",
    "        p_k_nonzero = np.ma.array(p_k, mask=np.logical_and(p_k < 1e-6, p_k > -1e-6))\n",
    "        # assert p_k_nonzero.mask.sum() > 0, \"Issues 2\"\n",
    "        \n",
    "        # max step for constraint (ax <= c) if (ap > 0) is given by: (c - ax) / ap\n",
    "        alphasL = np.ma.array(\n",
    "            (u[F_k] - x_k[F_k]) / p_k,  \n",
    "            mask=~np.logical_and(~p_k_nonzero.mask, p_k > 0)\n",
    "        ) # a= 1, c=u\n",
    "        alphasU = np.ma.array(\n",
    "            -x_k[F_k] / p_k,  \n",
    "            mask=~np.logical_and(~p_k_nonzero.mask, p_k < 0)\n",
    "        ) # a=-1, c=0\n",
    "        \n",
    "        min_alphasL = alphasL.min(fill_value=np.inf)\n",
    "        min_alphasU = alphasU.min(fill_value=np.inf)\n",
    "        \n",
    "        alpha = np.min([1, min_alphasL, min_alphasU])\n",
    "        assert alpha > ATOL, \"Issues 3\"\n",
    "        \n",
    "        # update solution\n",
    "        x_k[F_k] = x_k[F_k] + alpha*p_k\n",
    "        \n",
    "        # update active sets\n",
    "        AL_k, AU_k = get_active_box_constraints(x_k, 0, u, tol=ATOL)\n",
    "        A_k = np.union1d(AL_k, AU_k)\n",
    "        F_k = np.setdiff1d(np.arange(m), A_k)\n",
    "    return False"
   ]
  },
  {
   "cell_type": "code",
   "execution_count": 22,
   "id": "64d22bf3-3fe6-47e0-9b4e-988c501235e5",
   "metadata": {},
   "outputs": [
    {
     "name": "stdout",
     "output_type": "stream",
     "text": [
      "--------- ITERATION 0 ---------\n",
      "x^(0) = [3.         3.         3.         3.         2.99999693 3.00000307\n",
      " 2.99999693 3.00000307]\n",
      "f(x^(0)) = 55.80002273617955\n",
      "distance from solution: 8.485285719347816\n",
      "A_L^(0) = []\n",
      "A_U^(0) = []\n",
      "A^(0) = []\n",
      "F^(0) = [0 1 2 3 4 5 6 7]\n",
      "#AL^0 = 0, #AU^0 = 0, #A^0 = 0, #F^0 = 8\n",
      "p^(0) = [-3.36363636  3.36363636 -3.36363636  3.36363636  3.36363944 -3.36363944\n",
      "  3.36363944 -3.36363944]\n",
      "--------- ITERATION 1 ---------\n",
      "x^(1) = [0.00000000e+00 6.00000000e+00 1.33226763e-15 6.00000000e+00\n",
      " 5.99999967e+00 3.32092323e-07 5.99999967e+00 3.32092311e-07]\n",
      "f(x^(1)) = 31.200000265673488\n",
      "distance from solution: 6.641847090094323e-07\n",
      "A_L^(1) = [0 2 5 7]\n",
      "A_U^(1) = []\n",
      "A^(1) = [0 2 5 7]\n",
      "F^(1) = [1 3 4 6]\n",
      "#AL^1 = 4, #AU^1 = 0, #A^1 = 4, #F^1 = 4\n",
      "p^(1) = [-0. -0. -0. -0.]\n",
      "mu_L^(1) = [-4.39999993  5.19999993 -1.1999996   2.00000033]\n",
      "mu_U^(1) = []\n",
      "--------- ITERATION 2 ---------\n",
      "x^(2) = [0.00000000e+00 6.00000000e+00 1.33226763e-15 6.00000000e+00\n",
      " 5.99999967e+00 3.32092323e-07 5.99999967e+00 3.32092311e-07]\n",
      "f(x^(2)) = 31.200000265673488\n",
      "distance from solution: 6.641847090094323e-07\n",
      "A_L^(2) = [2 5 7]\n",
      "A_U^(2) = []\n",
      "A^(2) = [2 5 7]\n",
      "F^(2) = [0 1 3 4 6]\n",
      "#AL^2 = 3, #AU^2 = 0, #A^2 = 3, #F^2 = 5\n",
      "p^(2) = [ 1.0658141e-14 -8.8817842e-15 -0.0000000e+00  4.4408921e-15\n",
      "  4.4408921e-15]\n",
      "mu_L^(2) = [ 0.8        -1.1999996   2.00000033]\n",
      "mu_U^(2) = []\n",
      "--------- ITERATION 3 ---------\n",
      "x^(3) = [0.00000000e+00 6.00000000e+00 1.33226763e-15 6.00000000e+00\n",
      " 5.99999967e+00 3.32092323e-07 5.99999967e+00 3.32092311e-07]\n",
      "f(x^(3)) = 31.200000265673488\n",
      "distance from solution: 6.641847090094323e-07\n",
      "A_L^(3) = [2 7]\n",
      "A_U^(3) = []\n",
      "A^(3) = [2 7]\n",
      "F^(3) = [0 1 3 4 5 6]\n",
      "#AL^3 = 2, #AU^3 = 0, #A^3 = 2, #F^3 = 6\n",
      "p^(3) = [-1.33226763e-14  8.88178420e-15  1.33226763e-14  2.22044605e-15\n",
      "  4.44089210e-15  2.22044605e-15]\n",
      "solution found!\n"
     ]
    }
   ],
   "source": [
    "ITER_LIM = 100\n",
    "for i in range(ITER_LIM):\n",
    "    print(f\"--------- ITERATION {i} ---------\")\n",
    "    print_solution_and_cost(x_k, get_cost(x_k), i)\n",
    "    print(f\"distance from solution: {np.linalg.norm(x_k - solution)}\")\n",
    "    print_sets(AL_k, AU_k, A_k, F_k, i)\n",
    "    print(f\"#AL^{i} = {AL_k.size}, #AU^{i} = {AU_k.size}, #A^{i} = {A_k.size}, #F^{i} = {F_k.size}\")\n",
    "    if primal_algorithm(i):\n",
    "        print(\"solution found!\")\n",
    "        break"
   ]
  },
  {
   "cell_type": "code",
   "execution_count": 23,
   "id": "b55a4929-941f-4dc4-b381-f88dece70f4e",
   "metadata": {},
   "outputs": [
    {
     "data": {
      "text/plain": [
       "array([0.00000000e+00, 6.00000000e+00, 1.33226763e-15, 6.00000000e+00,\n",
       "       5.99999967e+00, 3.32092323e-07, 5.99999967e+00, 3.32092311e-07])"
      ]
     },
     "execution_count": 23,
     "metadata": {},
     "output_type": "execute_result"
    }
   ],
   "source": [
    "x_k"
   ]
  },
  {
   "cell_type": "code",
   "execution_count": 24,
   "id": "ae1a86f3-e9fd-4c9b-adeb-159b5df1672d",
   "metadata": {},
   "outputs": [
    {
     "data": {
      "text/plain": [
       "array([1000000., 1000000., 1000000., 1000000., 1000000., 1000000.,\n",
       "       1000000., 1000000.])"
      ]
     },
     "execution_count": 24,
     "metadata": {},
     "output_type": "execute_result"
    }
   ],
   "source": [
    "u"
   ]
  }
 ],
 "metadata": {
  "kernelspec": {
   "display_name": "Python 3 (ipykernel)",
   "language": "python",
   "name": "python3"
  },
  "language_info": {
   "codemirror_mode": {
    "name": "ipython",
    "version": 3
   },
   "file_extension": ".py",
   "mimetype": "text/x-python",
   "name": "python",
   "nbconvert_exporter": "python",
   "pygments_lexer": "ipython3",
   "version": "3.10.2"
  }
 },
 "nbformat": 4,
 "nbformat_minor": 5
}
